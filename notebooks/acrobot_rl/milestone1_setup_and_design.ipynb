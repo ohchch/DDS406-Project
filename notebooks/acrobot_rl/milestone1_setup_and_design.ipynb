{
 "cells": [
  {
   "cell_type": "code",
   "execution_count": 1,
   "metadata": {},
   "outputs": [
    {
     "name": "stderr",
     "output_type": "stream",
     "text": [
      "2025-06-09 09:14:49.195544: I tensorflow/core/util/port.cc:153] oneDNN custom operations are on. You may see slightly different numerical results due to floating-point round-off errors from different computation orders. To turn them off, set the environment variable `TF_ENABLE_ONEDNN_OPTS=0`.\n",
      "2025-06-09 09:14:49.206261: I external/local_xla/xla/tsl/cuda/cudart_stub.cc:32] Could not find cuda drivers on your machine, GPU will not be used.\n",
      "2025-06-09 09:14:49.225214: I external/local_xla/xla/tsl/cuda/cudart_stub.cc:32] Could not find cuda drivers on your machine, GPU will not be used.\n",
      "2025-06-09 09:14:49.251731: E external/local_xla/xla/stream_executor/cuda/cuda_fft.cc:467] Unable to register cuFFT factory: Attempting to register factory for plugin cuFFT when one has already been registered\n",
      "WARNING: All log messages before absl::InitializeLog() is called are written to STDERR\n",
      "E0000 00:00:1749460489.285946    1637 cuda_dnn.cc:8579] Unable to register cuDNN factory: Attempting to register factory for plugin cuDNN when one has already been registered\n",
      "E0000 00:00:1749460489.296247    1637 cuda_blas.cc:1407] Unable to register cuBLAS factory: Attempting to register factory for plugin cuBLAS when one has already been registered\n",
      "W0000 00:00:1749460489.353935    1637 computation_placer.cc:177] computation placer already registered. Please check linkage and avoid linking the same target more than once.\n",
      "W0000 00:00:1749460489.354094    1637 computation_placer.cc:177] computation placer already registered. Please check linkage and avoid linking the same target more than once.\n",
      "W0000 00:00:1749460489.354096    1637 computation_placer.cc:177] computation placer already registered. Please check linkage and avoid linking the same target more than once.\n",
      "W0000 00:00:1749460489.354100    1637 computation_placer.cc:177] computation placer already registered. Please check linkage and avoid linking the same target more than once.\n",
      "2025-06-09 09:14:49.376934: I tensorflow/core/platform/cpu_feature_guard.cc:210] This TensorFlow binary is optimized to use available CPU instructions in performance-critical operations.\n",
      "To enable the following instructions: AVX2 AVX_VNNI FMA, in other operations, rebuild TensorFlow with the appropriate compiler flags.\n"
     ]
    },
    {
     "name": "stdout",
     "output_type": "stream",
     "text": [
      "Python version: 3.9.17 (main, Jun 13 2023, 16:07:34) \n",
      "[GCC 8.3.0]\n",
      "TensorFlow version: 2.19.0\n",
      "Keras version: 3.10.0\n",
      "Gym version: 0.26.2\n",
      "\n",
      "All required libraries imported successfully!\n"
     ]
    }
   ],
   "source": [
    "import sys\n",
    "import tensorflow as tf\n",
    "import keras\n",
    "import gym\n",
    "# import keras_rl2 # Keras-RL2 is often imported as part of the DQN agent creation later\n",
    "\n",
    "print(f\"Python version: {sys.version}\")\n",
    "print(f\"TensorFlow version: {tf.__version__}\")\n",
    "print(f\"Keras version: {keras.__version__}\")\n",
    "print(f\"Gym version: {gym.__version__}\")\n",
    "\n",
    "print(\"\\nAll required libraries imported successfully!\")"
   ]
  },
  {
   "cell_type": "code",
   "execution_count": 4,
   "metadata": {},
   "outputs": [
    {
     "name": "stdout",
     "output_type": "stream",
     "text": [
      "Could not create Acrobot-v1 with human render_mode, falling back to rgb_array. Error: __init__() got an unexpected keyword argument 'legacy_wrapped_env'\n",
      "Acrobot-v1 environment created successfully with rgb_array render_mode.\n",
      "\n",
      "Observation Space (State Space): Box([ -1.        -1.        -1.        -1.       -12.566371 -28.274334], [ 1.        1.        1.        1.       12.566371 28.274334], (6,), float32)\n",
      "  Shape: (6,)\n",
      "  Low values: [ -1.        -1.        -1.        -1.       -12.566371 -28.274334]\n",
      "  High values: [ 1.        1.        1.        1.       12.566371 28.274334]\n",
      "\n",
      "Action Space: Discrete(3)\n",
      "  Number of actions: 3\n",
      "\n",
      "Initial state after reset: [ 0.9997121   0.02399328  0.9997853  -0.02072063 -0.03496813 -0.07802942]\n"
     ]
    }
   ],
   "source": [
    "import gym\n",
    "import numpy as np\n",
    "\n",
    "# 1. 初始化 Acrobot 环境\n",
    "# 使用 legacy_wrapped_env=True 以确保与旧版 Gym 兼容性，\n",
    "# 并避免一些未来版本中可能存在的API变化。\n",
    "try:\n",
    "    env = gym.make(\"Acrobot-v1\", legacy_wrapped_env=True, render_mode=\"human\") # human 模式用于可视化\n",
    "    print(\"Acrobot-v1 environment created successfully with human render_mode.\")\n",
    "except Exception as e:\n",
    "    env = gym.make(\"Acrobot-v1\", render_mode=\"rgb_array\") # 如果 human 模式报错，则使用 rgb_array 模式\n",
    "    print(f\"Could not create Acrobot-v1 with human render_mode, falling back to rgb_array. Error: {e}\")\n",
    "    print(\"Acrobot-v1 environment created successfully with rgb_array render_mode.\")\n",
    "\n",
    "\n",
    "# 2. 检索和理解状态空间\n",
    "observation_space = env.observation_space\n",
    "print(f\"\\nObservation Space (State Space): {observation_space}\")\n",
    "print(f\"  Shape: {observation_space.shape}\")\n",
    "print(f\"  Low values: {observation_space.low}\")\n",
    "print(f\"  High values: {observation_space.high}\")\n",
    "\n",
    "# Acrobot 的状态空间解释：\n",
    "# 这是一个 Box(6,) 类型，意味着它是一个包含6个浮点值的数组。\n",
    "# 这6个值代表：\n",
    "# - cos(theta1): 第一个连杆的角度余弦值\n",
    "# - sin(theta1): 第一个连杆的角度正弦值\n",
    "# - cos(theta2): 第二个连杆的角度余弦值\n",
    "# - sin(theta2): 第二个连杆的角度正弦值\n",
    "# - theta1_dot: 第一个连杆的角速度\n",
    "# - theta2_dot: 第二个连杆的角速度\n",
    "# 这些值是连续的，范围通常在 -1 到 1 之间（对于cos/sin），角速度有其最大最小值。\n",
    "\n",
    "# 3. 检索和理解动作空间\n",
    "action_space = env.action_space\n",
    "print(f\"\\nAction Space: {action_space}\")\n",
    "print(f\"  Number of actions: {action_space.n}\")\n",
    "\n",
    "# Acrobot 的动作空间解释：\n",
    "# 这是一个 Discrete(3) 类型，意味着代理有3个离散的动作可供选择：\n",
    "# - 0: 施加负扭矩（-1）到第二个连杆的关节\n",
    "# - 1: 不施加扭矩（0）\n",
    "# - 2: 施加正扭矩（+1）到第二个连杆的关节\n",
    "# 目标是通过这些扭矩使下连杆摆动到垂直位置。\n",
    "\n",
    "# 重置环境以获取初始状态\n",
    "initial_state, info = env.reset()\n",
    "print(f\"\\nInitial state after reset: {initial_state}\")\n",
    "\n",
    "# 关闭环境（最佳实践，释放资源）\n",
    "env.close()"
   ]
  },
  {
   "cell_type": "code",
   "execution_count": 1,
   "metadata": {},
   "outputs": [
    {
     "name": "stdout",
     "output_type": "stream",
     "text": [
      "Running 3 random episodes...\n",
      "\n",
      "--- Episode 1 ---\n",
      "Episode 1 finished after 200 steps. Total Reward: -200.00\n",
      "\n",
      "--- Episode 2 ---\n",
      "Episode 2 finished after 200 steps. Total Reward: -200.00\n",
      "\n",
      "--- Episode 3 ---\n",
      "Episode 3 finished after 200 steps. Total Reward: -200.00\n",
      "\n",
      "Finished running random episodes.\n"
     ]
    }
   ],
   "source": [
    "import gym\n",
    "import time # 用于暂停，方便观察\n",
    "import numpy as np\n",
    "\n",
    "# 重新创建环境，用于随机动作的观察\n",
    "env = gym.make(\"Acrobot-v1\", render_mode=\"human\") # 确保是 human 模式以便可视化\n",
    "\n",
    "num_random_episodes = 3 # 运行3个随机剧集进行观察\n",
    "max_steps_per_episode = 200 # 每个剧集的最大步数\n",
    "\n",
    "print(f\"Running {num_random_episodes} random episodes...\")\n",
    "\n",
    "for episode in range(num_random_episodes):\n",
    "    state, info = env.reset() # 重置环境\n",
    "    done = False\n",
    "    truncated = False # 对于 Gym 0.21+，除了 done 还有 truncated\n",
    "    total_reward = 0\n",
    "    step_count = 0\n",
    "\n",
    "    print(f\"\\n--- Episode {episode + 1} ---\")\n",
    "    while not done and not truncated and step_count < max_steps_per_episode:\n",
    "        action = env.action_space.sample() # 从动作空间中随机选择一个动作\n",
    "        \n",
    "        # 执行动作，获取新状态、奖励、是否结束、是否截断、额外信息\n",
    "        next_state, reward, done, truncated, info = env.step(action)\n",
    "        \n",
    "        total_reward += reward\n",
    "        step_count += 1\n",
    "        \n",
    "        # 实时渲染环境，以便观察\n",
    "        env.render()\n",
    "        \n",
    "        # （可选）暂停片刻以便观察动画\n",
    "        # time.sleep(0.01)\n",
    "\n",
    "        state = next_state # 更新当前状态\n",
    "\n",
    "        # 可以打印一些信息来观察\n",
    "        # if step_count % 50 == 0:\n",
    "        #     print(f\"  Step {step_count}: Action={action}, Reward={reward:.2f}, Total Reward={total_reward:.2f}\")\n",
    "\n",
    "    print(f\"Episode {episode + 1} finished after {step_count} steps. Total Reward: {total_reward:.2f}\")\n",
    "\n",
    "# 关闭环境\n",
    "env.close()\n",
    "print(\"\\nFinished running random episodes.\")"
   ]
  },
  {
   "cell_type": "code",
   "execution_count": 2,
   "metadata": {},
   "outputs": [
    {
     "name": "stderr",
     "output_type": "stream",
     "text": [
      "2025-06-09 12:54:07.740235: I tensorflow/core/util/port.cc:113] oneDNN custom operations are on. You may see slightly different numerical results due to floating-point round-off errors from different computation orders. To turn them off, set the environment variable `TF_ENABLE_ONEDNN_OPTS=0`.\n",
      "2025-06-09 12:54:07.896084: I external/local_tsl/tsl/cuda/cudart_stub.cc:31] Could not find cuda drivers on your machine, GPU will not be used.\n",
      "2025-06-09 12:54:08.605411: E external/local_xla/xla/stream_executor/cuda/cuda_dnn.cc:9261] Unable to register cuDNN factory: Attempting to register factory for plugin cuDNN when one has already been registered\n",
      "2025-06-09 12:54:08.605633: E external/local_xla/xla/stream_executor/cuda/cuda_fft.cc:607] Unable to register cuFFT factory: Attempting to register factory for plugin cuFFT when one has already been registered\n",
      "2025-06-09 12:54:08.747491: E external/local_xla/xla/stream_executor/cuda/cuda_blas.cc:1515] Unable to register cuBLAS factory: Attempting to register factory for plugin cuBLAS when one has already been registered\n",
      "2025-06-09 12:54:09.048034: I external/local_tsl/tsl/cuda/cudart_stub.cc:31] Could not find cuda drivers on your machine, GPU will not be used.\n",
      "2025-06-09 12:54:09.062768: I tensorflow/core/platform/cpu_feature_guard.cc:182] This TensorFlow binary is optimized to use available CPU instructions in performance-critical operations.\n",
      "To enable the following instructions: AVX2 AVX_VNNI FMA, in other operations, rebuild TensorFlow with the appropriate compiler flags.\n",
      "2025-06-09 12:54:16.688476: W tensorflow/compiler/tf2tensorrt/utils/py_utils.cc:38] TF-TRT Warning: Could not find TensorRT\n"
     ]
    },
    {
     "name": "stdout",
     "output_type": "stream",
     "text": [
      "Neural Network Architecture Designed.\n"
     ]
    }
   ],
   "source": [
    "import tensorflow as tf\n",
    "from tensorflow import keras\n",
    "from tensorflow.keras import layers\n",
    "\n",
    "# 根据 Acrobot 环境定义输入和输出维度\n",
    "state_size = 6  # 从 env.observation_space.shape[0] 获取\n",
    "action_size = 3 # 从 env.action_space.n 获取\n",
    "\n",
    "# 定义模型构建函数\n",
    "def build_q_network(input_shape, output_size):\n",
    "    model = keras.Sequential([\n",
    "        keras.Input(shape=input_shape), # 输入层，与状态空间形状匹配\n",
    "        layers.Dense(64, activation=\"relu\", name=\"hidden_layer_1\"), # 第一个隐藏层，64个神经元，ReLU激活\n",
    "        layers.Dense(64, activation=\"relu\", name=\"hidden_layer_2\"), # 第二个隐藏层，64个神经元，ReLU激活\n",
    "        layers.Dense(output_size, activation=\"linear\", name=\"output_layer\") # 输出层，与动作空间大小匹配，线性激活（Q值）\n",
    "    ])\n",
    "    return model\n",
    "\n",
    "# 实例化模型\n",
    "q_network = build_q_network(input_shape=(state_size,), output_size=action_size)\n",
    "\n",
    "print(\"Neural Network Architecture Designed.\")"
   ]
  },
  {
   "cell_type": "code",
   "execution_count": 3,
   "metadata": {},
   "outputs": [
    {
     "name": "stdout",
     "output_type": "stream",
     "text": [
      "Keras Neural Network Model Implemented.\n"
     ]
    }
   ],
   "source": [
    "import tensorflow as tf\n",
    "from tensorflow import keras\n",
    "from tensorflow.keras import layers\n",
    "\n",
    "# 确保定义了状态空间和动作空间的大小\n",
    "state_size = 6\n",
    "action_size = 3\n",
    "\n",
    "# 构建 Q 网络模型\n",
    "model = keras.Sequential([\n",
    "    keras.Input(shape=(state_size,)),\n",
    "    layers.Dense(64, activation='relu'),\n",
    "    layers.Dense(64, activation='relu'),\n",
    "    layers.Dense(action_size, activation='linear')\n",
    "])\n",
    "\n",
    "print(\"Keras Neural Network Model Implemented.\")"
   ]
  },
  {
   "cell_type": "code",
   "execution_count": 4,
   "metadata": {},
   "outputs": [
    {
     "name": "stdout",
     "output_type": "stream",
     "text": [
      "Model: \"sequential_1\"\n",
      "_________________________________________________________________\n",
      " Layer (type)                Output Shape              Param #   \n",
      "=================================================================\n",
      " dense (Dense)               (None, 64)                448       \n",
      "                                                                 \n",
      " dense_1 (Dense)             (None, 64)                4160      \n",
      "                                                                 \n",
      " dense_2 (Dense)             (None, 3)                 195       \n",
      "                                                                 \n",
      "=================================================================\n",
      "Total params: 4803 (18.76 KB)\n",
      "Trainable params: 4803 (18.76 KB)\n",
      "Non-trainable params: 0 (0.00 Byte)\n",
      "_________________________________________________________________\n"
     ]
    }
   ],
   "source": [
    "# 打印模型摘要\n",
    "model.summary()"
   ]
  }
 ],
 "metadata": {
  "kernelspec": {
   "display_name": "Python 3",
   "language": "python",
   "name": "python3"
  },
  "language_info": {
   "codemirror_mode": {
    "name": "ipython",
    "version": 3
   },
   "file_extension": ".py",
   "mimetype": "text/x-python",
   "name": "python",
   "nbconvert_exporter": "python",
   "pygments_lexer": "ipython3",
   "version": "3.9.17"
  }
 },
 "nbformat": 4,
 "nbformat_minor": 2
}
