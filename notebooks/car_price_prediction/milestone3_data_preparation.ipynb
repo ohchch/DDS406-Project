{
 "cells": [
  {
   "cell_type": "code",
   "execution_count": 4,
   "metadata": {},
   "outputs": [
    {
     "name": "stdout",
     "output_type": "stream",
     "text": [
      "Pandas version: 2.3.0+4.g1dfc98e16a\n",
      "NumPy version: 1.23.5\n",
      "Matplotlib version: 3.9.4\n",
      "Seaborn version: 0.13.2\n"
     ]
    }
   ],
   "source": [
    "import pandas as pd\n",
    "import numpy as np\n",
    "import matplotlib.pyplot as plt\n",
    "import seaborn as sns\n",
    "\n",
    "print(f\"Pandas version: {pd.__version__}\")\n",
    "print(f\"NumPy version: {np.__version__}\")\n",
    "print(f\"Matplotlib version: {matplotlib.__version__}\")\n",
    "print(f\"Seaborn version: {sns.__version__}\")"
   ]
  },
  {
   "cell_type": "code",
   "execution_count": 5,
   "metadata": {},
   "outputs": [
    {
     "ename": "SyntaxError",
     "evalue": "closing parenthesis '}' does not match opening parenthesis '[' on line 19 (3050107856.py, line 20)",
     "output_type": "error",
     "traceback": [
      "\u001b[0;36m  Cell \u001b[0;32mIn[5], line 20\u001b[0;36m\u001b[0m\n\u001b[0;31m    }\u001b[0m\n\u001b[0m    ^\u001b[0m\n\u001b[0;31mSyntaxError\u001b[0m\u001b[0;31m:\u001b[0m closing parenthesis '}' does not match opening parenthesis '[' on line 19\n"
     ]
    }
   ],
   "source": [
    "# 1. Load the Dataset\n",
    "# Place your used car dataset (e.g., 'used_cars.csv') in the data/ directory\n",
    "data_path = '../../data/placeholder_for_used_cars_dataset.csv'  # Relative path\n",
    "print(f\"Attempting to load data from: {data_path}\")\n",
    "\n",
    "# Create a dummy dataset for demonstration.  You'll need to replace this with your actual dataset.\n",
    "# Example columns: 'make', 'model', 'year', 'mileage', 'fuel_type', 'transmission', 'selling_price'\n",
    "try:\n",
    "    df = pd.read_csv(data_path)\n",
    "except FileNotFoundError:\n",
    "    print(\"Warning: Data file not found. Creating a dummy DataFrame for demonstration.\")\n",
    "    data = {\n",
    "        'make': ['Toyota', 'Honda', 'Ford', 'BMW', 'Toyota', 'Mercedes', 'Honda', 'Ford'],\n",
    "        'model': ['Camry', 'Civic', 'Fusion', '3 Series', 'Corolla', 'C-Class', 'CRV', 'F-150'],\n",
    "        'year': [2018, 2019, 2017, 2020, 2018, 2021, 2019, 2016],\n",
    "        'mileage': [50000, 30000, 70000, 20000, 45000, 15000, 35000, 80000],\n",
    "        'fuel_type': ['Petrol', 'Petrol', 'Petrol', 'Diesel', 'Petrol', 'Diesel', 'Petrol', 'Petrol'],\n",
    "        'transmission': ['Automatic', 'Manual', 'Automatic', 'Automatic', 'Manual', 'Automatic', 'Automatic', 'Automatic'],\n",
    "        'selling_price': [18000, 16000, 12000, 35000, 15000, 45000, 20000, 25000]\n",
    "    }\n",
    "    df = pd.DataFrame(data)\n",
    "    df.to_csv(data_path, index=False)  # Save dummy data for later testing\n",
    "    print(\"Dummy dataset created at `data/placeholder_for_used_cars_dataset.csv`.\")\n",
    "    df = pd.read_csv(data_path)  # Reload to ensure it reads from the file\n",
    "\n",
    "print(\"\\nOriginal DataFrame Head:\")\n",
    "print(df.head())\n",
    "print(\"\\nDataFrame Info:\")\n",
    "df.info()\n",
    "print(\"\\nMissing values before preprocessing:\")\n",
    "print(df.isnull().sum())"
   ]
  },
  {
   "cell_type": "code",
   "execution_count": null,
   "metadata": {},
   "outputs": [],
   "source": [
    "# 1. Data Preprocessing Example\n",
    "# Handling missing values (Dummy example: no missing values, but general approach)\n",
    "# if df.isnull().sum().any():\n",
    "#     # Impute numerical missing values (e.g., using the median)\n",
    "#     for col in df.select_dtypes(include=np.number).columns:\n",
    "#         if df[col].isnull().any():\n",
    "#             df[col].fillna(df[col.median(), inplace=True)\n",
    "#     # Impute categorical missing values (e.g., using the mode)\n",
    "#     for col in df.select_dtypes(include='object').columns:\n",
    "#         if df[col].isnull().any():\n",
    "#             df[col].fillna(df[col].mode()[0], inplace=True)\n",
    "print(\"\\nMissing values after preprocessing (if any were present):\")\n",
    "print(df.isnull().sum())\n",
    "\n",
    "# Encode categorical features (One-Hot Encoding)\n",
    "categorical_cols = ['make', 'model', 'fuel_type', 'transmission']\n",
    "df_encoded = pd.get_dummies(df, columns=categorical_cols, drop_first=True)  # drop_first to avoid multicollinearity\n",
    "\n",
    "print(\"\\nDataFrame Head after One-Hot Encoding:\")\n",
    "print(df_encoded.head())\n",
    "print(f\"Original columns: {df.shape[1]}, Encoded columns: {df_encoded.shape[1]}\")"
   ]
  },
  {
   "cell_type": "code",
   "execution_count": null,
   "metadata": {},
   "outputs": [],
   "source": [
    "# 2. Data Visualization\n",
    "# Target variable distribution\n",
    "plt.figure(figsize=(10, 6))\n",
    "sns.histplot(df_encoded['selling_price'], kde=True)\n",
    "plt.title('Distribution of Selling Price')\n",
    "plt.xlabel('Selling Price')\n",
    "plt.ylabel('Frequency')\n",
    "plt.show()\n",
    "\n",
    "# Relationship between numerical features and price\n",
    "numerical_cols = ['year', 'mileage'  # Assuming 'year' and 'mileage' are numerical\n",
    "for col in numerical_cols:\n",
    "    plt.figure(figsize=(10, 6))\n",
    "    sns.scatterplot(x=df_encoded[col], y=df_encoded['selling_price'])\n",
    "    plt.title(f'{col} vs Selling Price')\n",
    "    plt.xlabel(col)\n",
    "    plt.ylabel('Selling Price')\n",
    "    plt.show()\n",
    "\n",
    "# Correlation matrix\n",
    "plt.figure(figsize=(12, 10))\n",
    "correlation_matrix = df_encoded.corr()\n",
    "sns.heatmap(correlation_matrix, annot=False, cmap='coolwarm', fmt=\".2f\", linewidths=.5)  # annot=True for values\n",
    "plt.title('Correlation Matrix of Features')\n",
    "plt.show()\n",
    "\n",
    "print(\"\\nMilestone 3 tasks completed. Data prepared and visualized.\")"
   ]
  }
 ],
 "metadata": {
  "kernelspec": {
   "display_name": "Python 3",
   "language": "python",
   "name": "python3"
  },
  "language_info": {
   "codemirror_mode": {
    "name": "ipython",
    "version": 3
   },
   "file_extension": ".py",
   "mimetype": "text/x-python",
   "name": "python",
   "nbconvert_exporter": "python",
   "pygments_lexer": "ipython3",
   "version": "3.9.17"
  }
 },
 "nbformat": 4,
 "nbformat_minor": 2
}
